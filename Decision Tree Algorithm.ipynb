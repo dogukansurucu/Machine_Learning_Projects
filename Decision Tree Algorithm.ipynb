{
 "cells": [
  {
   "cell_type": "markdown",
   "id": "6977e131-e722-4344-9cca-719766d938e9",
   "metadata": {},
   "source": [
    "## PROJE SORUMLULARI"
   ]
  },
  {
   "cell_type": "markdown",
   "id": "467be9ee-80de-43d6-91e3-9a1afa08656c",
   "metadata": {},
   "source": [
    "> **AD SOYAD : DOĞUKAN SÜRÜCÜ , ÖĞRENCİ NUMARASI: 200403617**"
   ]
  },
  {
   "cell_type": "markdown",
   "id": "61b19151-aaf1-4886-a1d4-59af9a5147b2",
   "metadata": {},
   "source": [
    "> **AD SOYAD : FIRAT GÜMÜŞ , ÖĞRENCİ NUMARASI: 200403647**"
   ]
  },
  {
   "cell_type": "code",
   "execution_count": 1,
   "id": "46f1e540-e315-48ae-9f81-b3bf05945c30",
   "metadata": {},
   "outputs": [],
   "source": [
    "import pandas as pd\n",
    "import numpy as np"
   ]
  },
  {
   "cell_type": "markdown",
   "id": "c36fcb96-5e32-4f4a-9426-de21d0e12788",
   "metadata": {},
   "source": [
    "## DECİSİON TREES NEDİR ?"
   ]
  },
  {
   "cell_type": "markdown",
   "id": "9a61f944-9236-4ca4-af09-5916ea75ea3f",
   "metadata": {},
   "source": [
    "> Decision Tree genellikle sınıflandırma problemleri için kullanılan bir gözetimli öğrenme algoritmasıdır. Regresyon içinde kullanılabilir. Yüksek doğruluk, kararlılık ve yorumlanma kolaylığına sahiptir. Doğrusal olmayan ilişkileride oldukça iyi tespit edebilir."
   ]
  },
  {
   "cell_type": "markdown",
   "id": "9bfaedc9-90b2-4235-90d0-c342ed89535b",
   "metadata": {},
   "source": [
    "> Aşamalı bir işlevdir, çünkü her bölmede algoritma, bölünmenin kalitesine veya ne kadar saf olduğuna (daha az hata) bağlı olarak o noktada hangi özelliğin kullanılacağını hesaplar."
   ]
  },
  {
   "cell_type": "markdown",
   "id": "42029815-28dd-4dc1-8e6d-f354b36930d5",
   "metadata": {
    "tags": []
   },
   "source": [
    "## AŞAMA AŞAMA DECİSİON TREES"
   ]
  },
  {
   "cell_type": "markdown",
   "id": "e3cebd63-347d-4fd7-a12e-ffb7929335fc",
   "metadata": {},
   "source": [
    "* Veriseti içerisinden bir özellik seçilir.\n",
    "* Bu özelliğin, verinin ayrılmasındaki önemi hesaplanır.\n",
    "* Yukarıdaki işlem, bölme işini en iyi yapan özelliği bulana kadar tekrar edilir.\n",
    "* En iyi bölen özellik bulununca bir kural oluşturulur.\n",
    "* Yukarıda ki adımlar önem sırasına göre tüm özellikler için tekrarlanır.\n",
    "* Oluşturulan tüm kurallar verinin ayrılmasındaki önem sırasına göre sıralanır.\n",
    "* En önemli ayrıştırıcı özellik kök olur, önemi az olana doğru giderken yapraklara tek tek ulaşılır."
   ]
  },
  {
   "cell_type": "markdown",
   "id": "001f50f2-f8df-4747-a449-ac563c31df6d",
   "metadata": {},
   "source": [
    "**ENTROPY:** <span style='color:orange'>**Rastgeleliğe, belirsizliği ve beklenmeyen durumun ortaya çıkma olasılığını gösterir. Eğer örnekler tamamı düzenli / homojen ise entropisi sıfır olur. Eğer değerler birbirine eşit ise entropi 1 olur. Örneğin Futbol Oyna hepsi “Evet” veya “Hayır” olsa entropi sıfır olurdu. Entropi formülasyonu:**</span>\n"
   ]
  },
  {
   "cell_type": "markdown",
   "id": "3b387d17-7a9f-41c2-91f4-341186696176",
   "metadata": {},
   "source": [
    "$$Entropy(x) = - \\sum ( P(x=k)) * \\operatorname{Log}_2 P(x=k))$$"
   ]
  },
  {
   "cell_type": "markdown",
   "id": "b108f7e4-cc86-4f40-a7a2-c65b36e10f84",
   "metadata": {},
   "source": [
    "**INFORMATİON GAİN (Bilgi Kazanımı):**\n",
    "<span style='color:orange'>**Bilgi kazanımı, bir veri setini bir özellik üzerinde böldükten sonra tüm entropiden çıkarmaya dayanır. Entropinin küçük değer içermesi durumunda özelliğin önemi Decision Tree algoritması ID3 için artmaktadır. Diğer taraftan 1’e yaklaştıkça özelliğinin önemi azalır. Ancak information gain’de olay tam tersidir ve bu açıdan entropinin tersi gibi düşünülebilir.  Decision Tree inşa edilirken en yüksek değerleri information gain’e sahip özellik seçilir.**</span>"
   ]
  },
  {
   "cell_type": "markdown",
   "id": "eb47fa95-0c95-40ca-9317-eb05788131aa",
   "metadata": {},
   "source": [
    "$$Information Gain(feature) = Entropy(dataset) - Entropy(feature)$$"
   ]
  },
  {
   "cell_type": "code",
   "execution_count": 2,
   "id": "18a705e5-0fed-4929-af0b-ee9d3d0749ac",
   "metadata": {},
   "outputs": [],
   "source": [
    "df = pd.DataFrame(\n",
    "    {\n",
    "       \"Outlook\": ['Rainy', 'Rainy', 'Overcast', 'Sunny', 'Sunny', 'Sunny',\n",
    "       'Overcast', 'Rainy', 'Rainy', 'Sunny', 'Rainy', 'Overcast',\n",
    "       'Overcast', 'Sunny'],\n",
    "        \n",
    "       \"Temp\": ['Hot', 'Hot', 'Hot', 'Mild', 'Cool', 'Cool', 'Cool', 'Mild',\n",
    "       'Cool', 'Mild', 'Mild', 'Mild', 'Hot', 'Mild'],\n",
    "        \n",
    "       \"Humidity\": ['High', 'High', 'High', 'High', 'Normal', 'Normal', 'Normal',\n",
    "       'High', 'Normal', 'Normal', 'Normal', 'High', 'Normal', 'High'],\n",
    "        \n",
    "       \"Windy\": ['False', 'True', 'False', 'False', 'False', 'True', 'True', 'False', 'False',\n",
    "       'False', 'True', 'True', 'False', 'True'],\n",
    "        \n",
    "       \"Play Golf\": ['No', 'No', 'Yes', 'Yes', 'Yes', 'No', 'Yes', 'No', 'Yes', 'Yes',\n",
    "       'Yes', 'Yes', 'Yes', 'No']\n",
    "    },\n",
    "    index=[i for i in range(14)],\n",
    ")"
   ]
  },
  {
   "cell_type": "code",
   "execution_count": 3,
   "id": "d426f6d1-b56f-4960-b23d-ea821cca6a3b",
   "metadata": {},
   "outputs": [],
   "source": [
    "eps = np.finfo(float).eps"
   ]
  },
  {
   "cell_type": "code",
   "execution_count": 4,
   "id": "1c8c1193-4246-4fbb-bb06-f03e09f96abc",
   "metadata": {},
   "outputs": [
    {
     "data": {
      "text/html": [
       "<div>\n",
       "<style scoped>\n",
       "    .dataframe tbody tr th:only-of-type {\n",
       "        vertical-align: middle;\n",
       "    }\n",
       "\n",
       "    .dataframe tbody tr th {\n",
       "        vertical-align: top;\n",
       "    }\n",
       "\n",
       "    .dataframe thead th {\n",
       "        text-align: right;\n",
       "    }\n",
       "</style>\n",
       "<table border=\"1\" class=\"dataframe\">\n",
       "  <thead>\n",
       "    <tr style=\"text-align: right;\">\n",
       "      <th></th>\n",
       "      <th>Outlook</th>\n",
       "      <th>Temp</th>\n",
       "      <th>Humidity</th>\n",
       "      <th>Windy</th>\n",
       "      <th>Play Golf</th>\n",
       "    </tr>\n",
       "  </thead>\n",
       "  <tbody>\n",
       "    <tr>\n",
       "      <th>0</th>\n",
       "      <td>Rainy</td>\n",
       "      <td>Hot</td>\n",
       "      <td>High</td>\n",
       "      <td>False</td>\n",
       "      <td>No</td>\n",
       "    </tr>\n",
       "    <tr>\n",
       "      <th>1</th>\n",
       "      <td>Rainy</td>\n",
       "      <td>Hot</td>\n",
       "      <td>High</td>\n",
       "      <td>True</td>\n",
       "      <td>No</td>\n",
       "    </tr>\n",
       "    <tr>\n",
       "      <th>2</th>\n",
       "      <td>Overcast</td>\n",
       "      <td>Hot</td>\n",
       "      <td>High</td>\n",
       "      <td>False</td>\n",
       "      <td>Yes</td>\n",
       "    </tr>\n",
       "    <tr>\n",
       "      <th>3</th>\n",
       "      <td>Sunny</td>\n",
       "      <td>Mild</td>\n",
       "      <td>High</td>\n",
       "      <td>False</td>\n",
       "      <td>Yes</td>\n",
       "    </tr>\n",
       "    <tr>\n",
       "      <th>4</th>\n",
       "      <td>Sunny</td>\n",
       "      <td>Cool</td>\n",
       "      <td>Normal</td>\n",
       "      <td>False</td>\n",
       "      <td>Yes</td>\n",
       "    </tr>\n",
       "    <tr>\n",
       "      <th>5</th>\n",
       "      <td>Sunny</td>\n",
       "      <td>Cool</td>\n",
       "      <td>Normal</td>\n",
       "      <td>True</td>\n",
       "      <td>No</td>\n",
       "    </tr>\n",
       "    <tr>\n",
       "      <th>6</th>\n",
       "      <td>Overcast</td>\n",
       "      <td>Cool</td>\n",
       "      <td>Normal</td>\n",
       "      <td>True</td>\n",
       "      <td>Yes</td>\n",
       "    </tr>\n",
       "    <tr>\n",
       "      <th>7</th>\n",
       "      <td>Rainy</td>\n",
       "      <td>Mild</td>\n",
       "      <td>High</td>\n",
       "      <td>False</td>\n",
       "      <td>No</td>\n",
       "    </tr>\n",
       "    <tr>\n",
       "      <th>8</th>\n",
       "      <td>Rainy</td>\n",
       "      <td>Cool</td>\n",
       "      <td>Normal</td>\n",
       "      <td>False</td>\n",
       "      <td>Yes</td>\n",
       "    </tr>\n",
       "    <tr>\n",
       "      <th>9</th>\n",
       "      <td>Sunny</td>\n",
       "      <td>Mild</td>\n",
       "      <td>Normal</td>\n",
       "      <td>False</td>\n",
       "      <td>Yes</td>\n",
       "    </tr>\n",
       "    <tr>\n",
       "      <th>10</th>\n",
       "      <td>Rainy</td>\n",
       "      <td>Mild</td>\n",
       "      <td>Normal</td>\n",
       "      <td>True</td>\n",
       "      <td>Yes</td>\n",
       "    </tr>\n",
       "    <tr>\n",
       "      <th>11</th>\n",
       "      <td>Overcast</td>\n",
       "      <td>Mild</td>\n",
       "      <td>High</td>\n",
       "      <td>True</td>\n",
       "      <td>Yes</td>\n",
       "    </tr>\n",
       "    <tr>\n",
       "      <th>12</th>\n",
       "      <td>Overcast</td>\n",
       "      <td>Hot</td>\n",
       "      <td>Normal</td>\n",
       "      <td>False</td>\n",
       "      <td>Yes</td>\n",
       "    </tr>\n",
       "    <tr>\n",
       "      <th>13</th>\n",
       "      <td>Sunny</td>\n",
       "      <td>Mild</td>\n",
       "      <td>High</td>\n",
       "      <td>True</td>\n",
       "      <td>No</td>\n",
       "    </tr>\n",
       "  </tbody>\n",
       "</table>\n",
       "</div>"
      ],
      "text/plain": [
       "     Outlook  Temp Humidity  Windy Play Golf\n",
       "0      Rainy   Hot     High  False        No\n",
       "1      Rainy   Hot     High   True        No\n",
       "2   Overcast   Hot     High  False       Yes\n",
       "3      Sunny  Mild     High  False       Yes\n",
       "4      Sunny  Cool   Normal  False       Yes\n",
       "5      Sunny  Cool   Normal   True        No\n",
       "6   Overcast  Cool   Normal   True       Yes\n",
       "7      Rainy  Mild     High  False        No\n",
       "8      Rainy  Cool   Normal  False       Yes\n",
       "9      Sunny  Mild   Normal  False       Yes\n",
       "10     Rainy  Mild   Normal   True       Yes\n",
       "11  Overcast  Mild     High   True       Yes\n",
       "12  Overcast   Hot   Normal  False       Yes\n",
       "13     Sunny  Mild     High   True        No"
      ]
     },
     "execution_count": 4,
     "metadata": {},
     "output_type": "execute_result"
    }
   ],
   "source": [
    "df"
   ]
  },
  {
   "cell_type": "code",
   "execution_count": 5,
   "id": "59d23a19-5a3b-4bc0-bf66-27c03afd9259",
   "metadata": {},
   "outputs": [
    {
     "data": {
      "text/plain": [
       "Index(['Outlook', 'Temp', 'Humidity', 'Windy'], dtype='object')"
      ]
     },
     "execution_count": 5,
     "metadata": {},
     "output_type": "execute_result"
    }
   ],
   "source": [
    "df.keys()[:-1]"
   ]
  },
  {
   "cell_type": "code",
   "execution_count": 6,
   "id": "40ed8c13-5521-4f28-a491-996d3cf444e1",
   "metadata": {},
   "outputs": [
    {
     "data": {
      "text/plain": [
       "'Play Golf'"
      ]
     },
     "execution_count": 6,
     "metadata": {},
     "output_type": "execute_result"
    }
   ],
   "source": [
    "target = df.columns[-1]\n",
    "target"
   ]
  },
  {
   "cell_type": "code",
   "execution_count": 7,
   "id": "d6e700d1-b231-4a60-8daf-7244362f12d4",
   "metadata": {},
   "outputs": [
    {
     "name": "stdout",
     "output_type": "stream",
     "text": [
      "['Rainy' 'Overcast' 'Sunny']\n",
      "['Hot' 'Mild' 'Cool']\n",
      "['High' 'Normal']\n",
      "['False' 'True']\n"
     ]
    }
   ],
   "source": [
    "for i in df.keys()[:-1]:\n",
    "    unique_classes=df[i].unique()\n",
    "    print(unique_classes)"
   ]
  },
  {
   "cell_type": "code",
   "execution_count": 8,
   "id": "ac528e32-0d30-45af-86b5-49a46e428184",
   "metadata": {},
   "outputs": [
    {
     "data": {
      "text/plain": [
       "array(['No', 'Yes'], dtype=object)"
      ]
     },
     "execution_count": 8,
     "metadata": {},
     "output_type": "execute_result"
    }
   ],
   "source": [
    "Class = df.keys()[-1]\n",
    "unique_last=df[Class].unique()\n",
    "unique_last"
   ]
  },
  {
   "cell_type": "code",
   "execution_count": 9,
   "id": "8eef6b03-0daa-4001-a1e0-43a3009ef0cc",
   "metadata": {},
   "outputs": [],
   "source": [
    "\"\"\"\n",
    "\n",
    "Oluşturmuş olduğumuz veri setinin entropisini hesaplayabilmek için öncelikle entropy last fonksiyonunu çağırıp parametre olarak \n",
    "df veri setini girmemiz gerekiyor. Daha sonra veri setinin label sütunu olan play golf feature'ının birbirinden farklı sınıflarını(yes no) \n",
    "bir liste halinde getirmeliyiz. Oluşturduğumuz for döngüsü sayesinde Unique_values daki no ve yes sırasıyla i parametresi şeklinde ele alınacak. \n",
    "Öncelikle Yes etiketinin geldiğini varsayalım. df[class].value_counts() bize play golf columns'undaki sınıfların frekans sayılarını verir. \n",
    "df[class].value_counts()[i] play golf daki toplam 'yes' etiketi sayısını(frekansını) verir. \n",
    "len(df[class]) metoduyla df veri setinin row sayısını ve aynı zamanda playgolftaki toplam veriyi bulmuş oluruz. \n",
    "İşte bu yaptığımız işlem yes için olasılık değeriydi bunun entropisi prob*np.log2(prob) şeklinde hesaplanmış oluyor.\n",
    "Bu işlemler bittikten sonra for döngüsüyle 'No' yu i parametresi olarak alıyoruz.\n",
    "Yes için yaptığımız işlemleri No için de yapıp entropy değişkenine atıyoruz ve toplamlarını alıyoruz. Böylelikle entropiyi hesaplamış oluyoruz.\n",
    "\n",
    "𝐸𝑛𝑡𝑟𝑜𝑝𝑦(𝑥)=−∑(𝑃(𝑥=𝑘))∗Log2(𝑃(𝑥=𝑘)))\n",
    "\n",
    "\"\"\"\n",
    "\n",
    "def entropy_last(df):\n",
    "    Class=df.keys()[-1]    \n",
    "    unique_values=df[Class].unique()  \n",
    "    entropy=0\n",
    "    for i in unique_values:\n",
    "        prob=df[Class].value_counts()[i]/len(df[Class]) \n",
    "        entropy+=-prob*np.log2(prob)\n",
    "    return entropy"
   ]
  },
  {
   "cell_type": "code",
   "execution_count": 10,
   "id": "4fa4dce7-71c2-41f5-9b36-d852c20aa2b3",
   "metadata": {},
   "outputs": [
    {
     "data": {
      "text/plain": [
       "0.9402859586706311"
      ]
     },
     "execution_count": 10,
     "metadata": {},
     "output_type": "execute_result"
    }
   ],
   "source": [
    "entropy_last(df)"
   ]
  },
  {
   "cell_type": "markdown",
   "id": "44884aa0-0ae0-4b3e-ada8-4895fe809e18",
   "metadata": {},
   "source": [
    "![](Entropy.jpg)"
   ]
  },
  {
   "cell_type": "code",
   "execution_count": 11,
   "id": "37b204bd-474f-4626-bb2b-8af066f0bf40",
   "metadata": {},
   "outputs": [],
   "source": [
    "\"\"\"\n",
    "\n",
    "İnformation gaini hesaplamadan önce aşağıdaki attiribute_entropy(df,attribute) fonksiyonunda \n",
    "feature('Oulook','Temp','Windy','Humidity')'ların entropisini hesaplamamız lazım.\n",
    "Bunun için bir algoritma oluşturduk. best_for_split fonksiyonunda df veri setinin keyslerini alıp for döngüsünde sırasıyla attribute_entropy\n",
    "fonksiyonuna gönderdiğimizde dönecek değerden bahsetmiştik.Peki biz bu fonksiyonda ne amaçladık ? Nasıl her feature'ın entropisini hesaplayabiliyoruz ?\n",
    "\n",
    "attributes parametresine gelecek olan feature, örnek 'Outlook' olsun.\n",
    "df[attribute].unique metoduyla Outlook feature'ındaki farklı sınıfları alırız. df.keys()[-1] metoduyla da df veri setimizin son sütunu \n",
    "aynı zamanda class labelı 'Play golf' columns değişkeninin ismini almış ve Class değişkenine atamış oluyoruz.\n",
    "\n",
    "df[Class].unique() metoduyla 'Play golf' un farklı sınıf değerlerini unique_last değişkenine atıyoruz.\n",
    "\n",
    "\n",
    "for döngüsünde unique_classes'daki birbirinden farklı sınıfları sırasıyla i parametresine atadık.tabi i değeri bir sonraki değere geçmeden önce\n",
    "2.for döngüsüne de giriyor. Mesela 'Outlook' feature'ın farklı sınıflarının entropisini hesaplıyoruz. ['Rainy' 'Overcast' 'Sunny'] listesindeki sınıflar\n",
    "feature'ın birbirinden farklı sınıflarıdır.\n",
    "\n",
    "Rainy i parametresine gönderiliyor ve df verisetindeki Rainy sınıflı olanların class labeldaki ['No'] etiketinin sayısını tüm Rainy sayısına,\n",
    "Rainy sınıflı olanların class labeldaki ['Yes'] etiketinin sayısını tüm Rainy sayısına bölünmesiyle entropi işlemi gerçekleşir.\n",
    "\n",
    "Daha sonra aynı işlem diğer sınıflar olan ['Overcast','Sunny'] sınıfları için de geçerlidir.\n",
    "\n",
    "En son feature'daki birbirinden farklı sınıfların entropilerini toplarız ve feature'ın genel entropisini bulmuş oluruz.\n",
    "\n",
    "\"\"\"\n",
    "def attribute_entropy(df,attribute):\n",
    "    unique_classes=df[attribute].unique()\n",
    "    Class=df.keys()[-1]\n",
    "    unique_last=df[Class].unique()\n",
    "    information=0\n",
    "    for i in unique_classes:\n",
    "        entropy=0\n",
    "        for j in unique_last:\n",
    "            num=len(df[attribute][df[attribute]==i][df[df.keys()[-1]]==j])\n",
    "            den=len(df[attribute][df[attribute]==i])\n",
    "            entropy+=-num/(den+eps)*np.log2(num/den+eps)\n",
    "        information+=den/len(df)*entropy     \n",
    "    return abs(information)"
   ]
  },
  {
   "cell_type": "code",
   "execution_count": 12,
   "id": "9587b0d1-43e3-407a-b6bb-e168350a18ff",
   "metadata": {},
   "outputs": [],
   "source": [
    "features_entropi = {}\n",
    "for key in df.keys()[:-1]:\n",
    "    features_entropi[key] = attribute_entropy(df,key)"
   ]
  },
  {
   "cell_type": "code",
   "execution_count": 13,
   "id": "4701623a-5ab6-41e0-8936-9fcce0bff6ac",
   "metadata": {},
   "outputs": [
    {
     "data": {
      "text/plain": [
       "{'Outlook': 0.6935361388961914,\n",
       " 'Temp': 0.9110633930116756,\n",
       " 'Humidity': 0.7884504573082889,\n",
       " 'Windy': 0.892158928262361}"
      ]
     },
     "execution_count": 13,
     "metadata": {},
     "output_type": "execute_result"
    }
   ],
   "source": [
    "features_entropi"
   ]
  },
  {
   "cell_type": "code",
   "execution_count": 14,
   "id": "3b7de3a7-ee16-4d97-9fc4-fe97276647be",
   "metadata": {},
   "outputs": [],
   "source": [
    "\"\"\"\n",
    "\n",
    "Şimdi inforation gaini hesaplamak ve tree'nin root node kısmını bulmak için best_for_split adında bir fonksiyon oluşturduk ve df verisetimizi bu fonksiyona yolladık.\n",
    "df veri setinin feature'larının information gainini hesaplamak için öncelikle keys() metoduyla featureların ismini alırız.\n",
    "Play golf bir feature değildir çünkü o bir class labeldır.O yüzden df.keys()[:-1] işlemini uyguladık.\n",
    "Burada for döngüsüyle key parametresi olarak sırasıyla gelecek olan her feature'ı attribute_entropy(df,key) \n",
    "fonksiyonuna göndereceğiz ve return değeri dönecek. entropy_last(df) fonksiyonunu üstteki hücrelerde kodlamıştık ve fonksiyonu\n",
    "çağırdığımızda veri setimizin entropi değerini döndürür.\n",
    "Daha sonra bir list metodu olan append() fonskiyonuyla sırasıyla gelecek her bir feature('outlook','Temp','Humidity','Windy')'ın\n",
    "information gainini IG listesine eklemiş olacağız.\n",
    "\n",
    "Tabi best_for_split fonksiyonunu kurmamızdaki temel amaç en yüksek information gaini olan feature'ı fonksiyon çağrıldığında döndürmesi.\n",
    "Bunun için numpy kütüphanesinin np.argmax() kütüphanesini kullandık.\n",
    "\n",
    "𝐸𝑛𝑡𝑟𝑜𝑝𝑦(𝑥)=−∑(𝑃(𝑥=𝑘))∗Log2(𝑃(𝑥=𝑘)))\n",
    "\n",
    "𝐼𝑛𝑓𝑜𝑟𝑚𝑎𝑡𝑖𝑜𝑛𝐺𝑎𝑖𝑛(𝑓𝑒𝑎𝑡𝑢𝑟𝑒) = 𝐸𝑛𝑡𝑟𝑜𝑝𝑦(𝑑𝑎𝑡𝑎𝑠𝑒𝑡) − 𝐸𝑛𝑡𝑟𝑜𝑝𝑦(𝑓𝑒𝑎𝑡𝑢𝑟𝑒)\n",
    "\n",
    "\"\"\"\n",
    "\n",
    "def best_for_split(df):\n",
    "    \n",
    "    IG=[]\n",
    "    for key in df.keys()[:-1]:\n",
    "        IG.append(entropy_last(df)-attribute_entropy(df,key))\n",
    "        \n",
    "    return df.keys()[:-1][np.argmax(IG)]"
   ]
  },
  {
   "cell_type": "markdown",
   "id": "199dd98b-66db-4c4b-84bc-32027a598cd2",
   "metadata": {},
   "source": [
    "![](IG.jpg)"
   ]
  },
  {
   "cell_type": "code",
   "execution_count": 15,
   "id": "55e75c67-87f2-42ea-87ae-20537a1b2375",
   "metadata": {},
   "outputs": [
    {
     "data": {
      "text/plain": [
       "[0.24674981977443977,\n",
       " 0.029222565658955535,\n",
       " 0.15183550136234225,\n",
       " 0.048127030408270155]"
      ]
     },
     "execution_count": 15,
     "metadata": {},
     "output_type": "execute_result"
    }
   ],
   "source": [
    "IG=[]\n",
    "for key in df.keys()[:-1]:\n",
    "    IG.append(entropy_last(df)-attribute_entropy(df,key))\n",
    "IG   "
   ]
  },
  {
   "cell_type": "code",
   "execution_count": 16,
   "id": "ab865f39-2255-43c6-961a-f2877d8ae019",
   "metadata": {},
   "outputs": [
    {
     "data": {
      "text/plain": [
       "'Outlook'"
      ]
     },
     "execution_count": 16,
     "metadata": {},
     "output_type": "execute_result"
    }
   ],
   "source": [
    "best_for_split(df)"
   ]
  },
  {
   "cell_type": "code",
   "execution_count": 17,
   "id": "1b535065-4eed-4b9b-86e9-7988a0dfa890",
   "metadata": {},
   "outputs": [],
   "source": [
    "\"\"\"\n",
    "\n",
    "reset_index() metoduyla, indexi varsayılan 0, 1, 2 vb. indexlerine sıfırlamamıza olanak sağlar.\n",
    "ve tree oluştururken root node olan feature'ın classlarını tablo şeklinde göstermek istedik.\n",
    "\n",
    "\"\"\"\n",
    "\n",
    "def get_subtable(df,node,value):\n",
    "    return df[df[node]==value].reset_index(drop=True)"
   ]
  },
  {
   "cell_type": "code",
   "execution_count": 18,
   "id": "e7247321-7c76-4fc3-b5d1-00589f72bce9",
   "metadata": {},
   "outputs": [
    {
     "data": {
      "text/html": [
       "<div>\n",
       "<style scoped>\n",
       "    .dataframe tbody tr th:only-of-type {\n",
       "        vertical-align: middle;\n",
       "    }\n",
       "\n",
       "    .dataframe tbody tr th {\n",
       "        vertical-align: top;\n",
       "    }\n",
       "\n",
       "    .dataframe thead th {\n",
       "        text-align: right;\n",
       "    }\n",
       "</style>\n",
       "<table border=\"1\" class=\"dataframe\">\n",
       "  <thead>\n",
       "    <tr style=\"text-align: right;\">\n",
       "      <th></th>\n",
       "      <th>Outlook</th>\n",
       "      <th>Temp</th>\n",
       "      <th>Humidity</th>\n",
       "      <th>Windy</th>\n",
       "      <th>Play Golf</th>\n",
       "    </tr>\n",
       "  </thead>\n",
       "  <tbody>\n",
       "    <tr>\n",
       "      <th>0</th>\n",
       "      <td>Rainy</td>\n",
       "      <td>Hot</td>\n",
       "      <td>High</td>\n",
       "      <td>False</td>\n",
       "      <td>No</td>\n",
       "    </tr>\n",
       "    <tr>\n",
       "      <th>1</th>\n",
       "      <td>Rainy</td>\n",
       "      <td>Hot</td>\n",
       "      <td>High</td>\n",
       "      <td>True</td>\n",
       "      <td>No</td>\n",
       "    </tr>\n",
       "    <tr>\n",
       "      <th>2</th>\n",
       "      <td>Rainy</td>\n",
       "      <td>Mild</td>\n",
       "      <td>High</td>\n",
       "      <td>False</td>\n",
       "      <td>No</td>\n",
       "    </tr>\n",
       "    <tr>\n",
       "      <th>3</th>\n",
       "      <td>Rainy</td>\n",
       "      <td>Cool</td>\n",
       "      <td>Normal</td>\n",
       "      <td>False</td>\n",
       "      <td>Yes</td>\n",
       "    </tr>\n",
       "    <tr>\n",
       "      <th>4</th>\n",
       "      <td>Rainy</td>\n",
       "      <td>Mild</td>\n",
       "      <td>Normal</td>\n",
       "      <td>True</td>\n",
       "      <td>Yes</td>\n",
       "    </tr>\n",
       "  </tbody>\n",
       "</table>\n",
       "</div>"
      ],
      "text/plain": [
       "  Outlook  Temp Humidity  Windy Play Golf\n",
       "0   Rainy   Hot     High  False        No\n",
       "1   Rainy   Hot     High   True        No\n",
       "2   Rainy  Mild     High  False        No\n",
       "3   Rainy  Cool   Normal  False       Yes\n",
       "4   Rainy  Mild   Normal   True       Yes"
      ]
     },
     "execution_count": 18,
     "metadata": {},
     "output_type": "execute_result"
    }
   ],
   "source": [
    "a = get_subtable(df,'Outlook','Rainy')\n",
    "a"
   ]
  },
  {
   "cell_type": "code",
   "execution_count": 19,
   "id": "e2f975a1-5a9f-4212-aad7-893bbe211989",
   "metadata": {},
   "outputs": [
    {
     "data": {
      "text/html": [
       "<div>\n",
       "<style scoped>\n",
       "    .dataframe tbody tr th:only-of-type {\n",
       "        vertical-align: middle;\n",
       "    }\n",
       "\n",
       "    .dataframe tbody tr th {\n",
       "        vertical-align: top;\n",
       "    }\n",
       "\n",
       "    .dataframe thead th {\n",
       "        text-align: right;\n",
       "    }\n",
       "</style>\n",
       "<table border=\"1\" class=\"dataframe\">\n",
       "  <thead>\n",
       "    <tr style=\"text-align: right;\">\n",
       "      <th></th>\n",
       "      <th>Outlook</th>\n",
       "      <th>Temp</th>\n",
       "      <th>Humidity</th>\n",
       "      <th>Windy</th>\n",
       "      <th>Play Golf</th>\n",
       "    </tr>\n",
       "  </thead>\n",
       "  <tbody>\n",
       "    <tr>\n",
       "      <th>0</th>\n",
       "      <td>Sunny</td>\n",
       "      <td>Mild</td>\n",
       "      <td>High</td>\n",
       "      <td>False</td>\n",
       "      <td>Yes</td>\n",
       "    </tr>\n",
       "    <tr>\n",
       "      <th>1</th>\n",
       "      <td>Sunny</td>\n",
       "      <td>Cool</td>\n",
       "      <td>Normal</td>\n",
       "      <td>False</td>\n",
       "      <td>Yes</td>\n",
       "    </tr>\n",
       "    <tr>\n",
       "      <th>2</th>\n",
       "      <td>Sunny</td>\n",
       "      <td>Cool</td>\n",
       "      <td>Normal</td>\n",
       "      <td>True</td>\n",
       "      <td>No</td>\n",
       "    </tr>\n",
       "    <tr>\n",
       "      <th>3</th>\n",
       "      <td>Sunny</td>\n",
       "      <td>Mild</td>\n",
       "      <td>Normal</td>\n",
       "      <td>False</td>\n",
       "      <td>Yes</td>\n",
       "    </tr>\n",
       "    <tr>\n",
       "      <th>4</th>\n",
       "      <td>Sunny</td>\n",
       "      <td>Mild</td>\n",
       "      <td>High</td>\n",
       "      <td>True</td>\n",
       "      <td>No</td>\n",
       "    </tr>\n",
       "  </tbody>\n",
       "</table>\n",
       "</div>"
      ],
      "text/plain": [
       "  Outlook  Temp Humidity  Windy Play Golf\n",
       "0   Sunny  Mild     High  False       Yes\n",
       "1   Sunny  Cool   Normal  False       Yes\n",
       "2   Sunny  Cool   Normal   True        No\n",
       "3   Sunny  Mild   Normal  False       Yes\n",
       "4   Sunny  Mild     High   True        No"
      ]
     },
     "execution_count": 19,
     "metadata": {},
     "output_type": "execute_result"
    }
   ],
   "source": [
    "get_subtable(df,'Outlook','Sunny')"
   ]
  },
  {
   "cell_type": "code",
   "execution_count": 20,
   "id": "89c23cec-96f4-41b4-92e5-b0909ec46353",
   "metadata": {},
   "outputs": [
    {
     "data": {
      "text/html": [
       "<div>\n",
       "<style scoped>\n",
       "    .dataframe tbody tr th:only-of-type {\n",
       "        vertical-align: middle;\n",
       "    }\n",
       "\n",
       "    .dataframe tbody tr th {\n",
       "        vertical-align: top;\n",
       "    }\n",
       "\n",
       "    .dataframe thead th {\n",
       "        text-align: right;\n",
       "    }\n",
       "</style>\n",
       "<table border=\"1\" class=\"dataframe\">\n",
       "  <thead>\n",
       "    <tr style=\"text-align: right;\">\n",
       "      <th></th>\n",
       "      <th>Outlook</th>\n",
       "      <th>Temp</th>\n",
       "      <th>Humidity</th>\n",
       "      <th>Windy</th>\n",
       "      <th>Play Golf</th>\n",
       "    </tr>\n",
       "  </thead>\n",
       "  <tbody>\n",
       "    <tr>\n",
       "      <th>0</th>\n",
       "      <td>Overcast</td>\n",
       "      <td>Hot</td>\n",
       "      <td>High</td>\n",
       "      <td>False</td>\n",
       "      <td>Yes</td>\n",
       "    </tr>\n",
       "    <tr>\n",
       "      <th>1</th>\n",
       "      <td>Overcast</td>\n",
       "      <td>Cool</td>\n",
       "      <td>Normal</td>\n",
       "      <td>True</td>\n",
       "      <td>Yes</td>\n",
       "    </tr>\n",
       "    <tr>\n",
       "      <th>2</th>\n",
       "      <td>Overcast</td>\n",
       "      <td>Mild</td>\n",
       "      <td>High</td>\n",
       "      <td>True</td>\n",
       "      <td>Yes</td>\n",
       "    </tr>\n",
       "    <tr>\n",
       "      <th>3</th>\n",
       "      <td>Overcast</td>\n",
       "      <td>Hot</td>\n",
       "      <td>Normal</td>\n",
       "      <td>False</td>\n",
       "      <td>Yes</td>\n",
       "    </tr>\n",
       "  </tbody>\n",
       "</table>\n",
       "</div>"
      ],
      "text/plain": [
       "    Outlook  Temp Humidity  Windy Play Golf\n",
       "0  Overcast   Hot     High  False       Yes\n",
       "1  Overcast  Cool   Normal   True       Yes\n",
       "2  Overcast  Mild     High   True       Yes\n",
       "3  Overcast   Hot   Normal  False       Yes"
      ]
     },
     "execution_count": 20,
     "metadata": {},
     "output_type": "execute_result"
    }
   ],
   "source": [
    "get_subtable(df,'Outlook','Overcast')"
   ]
  },
  {
   "cell_type": "code",
   "execution_count": 21,
   "id": "de28a066-a680-4795-ad94-a7bba0d37c87",
   "metadata": {},
   "outputs": [],
   "source": [
    "\"\"\"\n",
    "\n",
    "Şimdi information gain değeri yüksek olan feature'ı bildiğimize göre ağacı python diliyle kabataslak\n",
    "oluşturabiliriz. İnformation gaini en yüksek olan root node oluyordu.Daha sonra root node olan bu feature'ın\n",
    "farklı class'larının alt tablolarını oluşturuyoruz.\n",
    "\n",
    "Eğer alt tablolardaki class label'ların tüm verileri 'Yes' veya 'No' ise yani tek tip etiket varsa o tablonun etiketi bellidir.\n",
    "\n",
    "Eğer tablodaki class label'ın verilerinin bazısı yes bazısı no veya class label etiketini belirleyecek feature yoksa tekrar bölme işlemi gerçekleşir\n",
    "ve en iyi bölen feature belirlenir\n",
    "\n",
    "Mesela Rainy sınıflarını barındıran alt tablonun tek etiketi olmadığından belirleyici feature bilmiyoruz bu yüzden \n",
    "en iyi bölen özelliğini bulmak için information gainini hesaplarız ve Humidity feature olduğu görülür.Humidity feature'ında\n",
    "'High' sınıfında etiket 'No' , 'Normal' sınıfında ise etiket 'Yes' olduğu görülür. \n",
    "\n",
    "Overcast alt tablosundaki class label etiketlerinin hepsi 'Yes' olduğu için en iyi bölme metodunu kullanmaya gerek kalmadan etiket 'Yes'\n",
    "olur.\n",
    "\n",
    "Aynı mantık Sunny alt tablosunda da geçerlidir.\n",
    "\n",
    "\"\"\"\n",
    "\n",
    "def build_tree(df,tree=None):\n",
    "    Class=df.keys()[-1]\n",
    "    node=best_for_split(df)\n",
    "    attr=df[node].unique()\n",
    "    if tree is None:\n",
    "        tree={}\n",
    "        tree[node]={}\n",
    "        for value in attr:\n",
    "            subtable = get_subtable(df,node,value)\n",
    "            clValue,counts = np.unique(subtable['Play Golf'],return_counts=True)                        \n",
    "        \n",
    "            if len(counts)==1:\n",
    "                tree[node][value] = clValue[0]                                                    \n",
    "            else:        \n",
    "                tree[node][value] = build_tree(subtable)  \n",
    "                   \n",
    "    return tree"
   ]
  },
  {
   "cell_type": "code",
   "execution_count": 22,
   "id": "6bc0447a-73ff-4828-b7e5-64f2b7d9ec00",
   "metadata": {},
   "outputs": [],
   "source": [
    "tree = build_tree(df)"
   ]
  },
  {
   "cell_type": "code",
   "execution_count": 23,
   "id": "e2ffacd7-9627-4285-9f1f-27350671d075",
   "metadata": {},
   "outputs": [
    {
     "data": {
      "text/plain": [
       "{'Outlook': {'Rainy': {'Humidity': {'High': 'No', 'Normal': 'Yes'}},\n",
       "  'Overcast': 'Yes',\n",
       "  'Sunny': {'Windy': {'False': 'Yes', 'True': 'No'}}}}"
      ]
     },
     "execution_count": 23,
     "metadata": {},
     "output_type": "execute_result"
    }
   ],
   "source": [
    "tree"
   ]
  },
  {
   "cell_type": "code",
   "execution_count": 24,
   "id": "627fa5e1-431d-4d57-a41c-a022a1d1f9f8",
   "metadata": {},
   "outputs": [],
   "source": [
    "import pprint"
   ]
  },
  {
   "cell_type": "code",
   "execution_count": 25,
   "id": "c9a1559d-ad31-4c2d-a029-d7003edfc95c",
   "metadata": {},
   "outputs": [
    {
     "name": "stdout",
     "output_type": "stream",
     "text": [
      "{'Outlook': {'Overcast': 'Yes',\n",
      "             'Rainy': {'Humidity': {'High': 'No', 'Normal': 'Yes'}},\n",
      "             'Sunny': {'Windy': {'False': 'Yes', 'True': 'No'}}}}\n"
     ]
    }
   ],
   "source": [
    "pprint.pprint(tree)"
   ]
  },
  {
   "cell_type": "markdown",
   "id": "0382948a-dcac-467f-8a65-49deb60267ad",
   "metadata": {},
   "source": [
    "![](Tree.jpg)"
   ]
  },
  {
   "cell_type": "code",
   "execution_count": 26,
   "id": "05e7149d-8fb4-479f-9399-af9455de1111",
   "metadata": {},
   "outputs": [],
   "source": [
    "c,d = np.unique(df['Play Golf'],return_counts=True)"
   ]
  },
  {
   "cell_type": "code",
   "execution_count": 27,
   "id": "5dfe8345-adb8-45d2-975b-e1c457cff4ed",
   "metadata": {},
   "outputs": [
    {
     "data": {
      "text/plain": [
       "array(['No', 'Yes'], dtype=object)"
      ]
     },
     "execution_count": 27,
     "metadata": {},
     "output_type": "execute_result"
    }
   ],
   "source": [
    "c"
   ]
  },
  {
   "cell_type": "code",
   "execution_count": 28,
   "id": "6c093a5f-e8f8-48b7-b2e1-cb038616c0c8",
   "metadata": {},
   "outputs": [
    {
     "data": {
      "text/plain": [
       "array([5, 9], dtype=int64)"
      ]
     },
     "execution_count": 28,
     "metadata": {},
     "output_type": "execute_result"
    }
   ],
   "source": [
    "d"
   ]
  },
  {
   "cell_type": "code",
   "execution_count": 29,
   "id": "a4c89291-ff13-4b4b-8ca2-71cae8a3eb76",
   "metadata": {},
   "outputs": [
    {
     "data": {
      "text/plain": [
       "2"
      ]
     },
     "execution_count": 29,
     "metadata": {},
     "output_type": "execute_result"
    }
   ],
   "source": [
    "len(d)"
   ]
  },
  {
   "cell_type": "code",
   "execution_count": 30,
   "id": "dbefa89e-8eae-4c24-89eb-a97256feb8be",
   "metadata": {},
   "outputs": [],
   "source": [
    "data = {'Outlook':'Sunny','Temperature':'Cool','Humidity':'Normal','Windy':False}\n",
    "inst = pd.Series(data)"
   ]
  },
  {
   "cell_type": "code",
   "execution_count": 31,
   "id": "120dc27c-8c56-4dbe-ac7f-03f0d27ae28a",
   "metadata": {},
   "outputs": [
    {
     "data": {
      "text/plain": [
       "Outlook         Sunny\n",
       "Temperature      Cool\n",
       "Humidity       Normal\n",
       "Windy           False\n",
       "dtype: object"
      ]
     },
     "execution_count": 31,
     "metadata": {},
     "output_type": "execute_result"
    }
   ],
   "source": [
    "inst"
   ]
  },
  {
   "cell_type": "code",
   "execution_count": 32,
   "id": "4b573662-f720-4740-8bd8-db4b4cfff9d4",
   "metadata": {},
   "outputs": [
    {
     "data": {
      "text/plain": [
       "'Sunny'"
      ]
     },
     "execution_count": 32,
     "metadata": {},
     "output_type": "execute_result"
    }
   ],
   "source": [
    "value = inst['Outlook']\n",
    "value"
   ]
  },
  {
   "cell_type": "code",
   "execution_count": 33,
   "id": "fa349356-0e80-430c-b13e-90ed62b41ab1",
   "metadata": {},
   "outputs": [
    {
     "data": {
      "text/plain": [
       "{'Windy': {'False': 'Yes', 'True': 'No'}}"
      ]
     },
     "execution_count": 33,
     "metadata": {},
     "output_type": "execute_result"
    }
   ],
   "source": [
    "tree['Outlook'][value]"
   ]
  },
  {
   "cell_type": "code",
   "execution_count": 34,
   "id": "85638044-08af-4db5-82be-9960176c9801",
   "metadata": {},
   "outputs": [],
   "source": [
    "\"\"\"\n",
    "\n",
    "Sırada oluşturduğumuz bu decision tree algoritmasını test etmek var.\n",
    "Örneğin {'Outlook':'Rainy','Temperature':'Cool','Humidity':'High','Windy':True}\n",
    "\n",
    "alıştırmasının etiketini tahmin edin denildiğinde cevap ne olur ?\n",
    "\n",
    "Etiket 'No' olur.Burada Root node'un class'larından biri olan 'Rainy' seçilmiş.\n",
    "'Rainy' sınıflı alt tablonun belirleyici özelliği 'Humidity' değişkeniydi.\n",
    "\n",
    "Humidity key'i 'Normal' ise etiket 'Yes' olur.\n",
    "Humidity key'i 'High' ise etiket 'No' olur.\n",
    "\n",
    "\"\"\"\n",
    "\n",
    "def predict(inst,tree):\n",
    "   \n",
    "    for nodes in tree.keys():        \n",
    "        \n",
    "        value = inst[nodes]\n",
    "        tree = tree[nodes][value]\n",
    "        prediction = 0\n",
    "            \n",
    "        if type(tree) is dict:\n",
    "            prediction = predict(inst, tree)\n",
    "        else:\n",
    "            prediction = tree\n",
    "            break;                            \n",
    "        \n",
    "    return prediction"
   ]
  },
  {
   "cell_type": "code",
   "execution_count": 35,
   "id": "399bea7b-7349-4131-9b0b-1fb006b58124",
   "metadata": {},
   "outputs": [],
   "source": [
    "data = {'Outlook':'Rainy','Temperature':'Cool','Humidity':'Normal','Windy':True}\n",
    "inst = pd.Series(data)\n",
    "\n",
    "prediction = predict(inst,tree)"
   ]
  },
  {
   "cell_type": "code",
   "execution_count": 36,
   "id": "008ec730-3ec5-4392-a20b-d35e29596fd0",
   "metadata": {},
   "outputs": [
    {
     "data": {
      "text/plain": [
       "'Yes'"
      ]
     },
     "execution_count": 36,
     "metadata": {},
     "output_type": "execute_result"
    }
   ],
   "source": [
    "prediction"
   ]
  },
  {
   "cell_type": "code",
   "execution_count": 37,
   "id": "0947de1e-7f0f-4959-bdbe-8e7cfd2305f7",
   "metadata": {},
   "outputs": [],
   "source": [
    "import numpy as np \n",
    "import pandas as pd \n",
    "import matplotlib.pyplot as plt\n",
    "from sklearn.model_selection import train_test_split\n",
    "from sklearn.tree import DecisionTreeClassifier \n",
    "from sklearn.preprocessing import OneHotEncoder,LabelEncoder\n",
    "from sklearn import tree"
   ]
  },
  {
   "cell_type": "code",
   "execution_count": 38,
   "id": "7ff8515f-6f29-4592-847e-69e3c1210950",
   "metadata": {},
   "outputs": [
    {
     "data": {
      "text/html": [
       "<div>\n",
       "<style scoped>\n",
       "    .dataframe tbody tr th:only-of-type {\n",
       "        vertical-align: middle;\n",
       "    }\n",
       "\n",
       "    .dataframe tbody tr th {\n",
       "        vertical-align: top;\n",
       "    }\n",
       "\n",
       "    .dataframe thead th {\n",
       "        text-align: right;\n",
       "    }\n",
       "</style>\n",
       "<table border=\"1\" class=\"dataframe\">\n",
       "  <thead>\n",
       "    <tr style=\"text-align: right;\">\n",
       "      <th></th>\n",
       "      <th>Outlook</th>\n",
       "      <th>Temp</th>\n",
       "      <th>Humidity</th>\n",
       "      <th>Windy</th>\n",
       "      <th>Play Golf</th>\n",
       "    </tr>\n",
       "  </thead>\n",
       "  <tbody>\n",
       "    <tr>\n",
       "      <th>0</th>\n",
       "      <td>Rainy</td>\n",
       "      <td>Hot</td>\n",
       "      <td>High</td>\n",
       "      <td>False</td>\n",
       "      <td>No</td>\n",
       "    </tr>\n",
       "    <tr>\n",
       "      <th>1</th>\n",
       "      <td>Rainy</td>\n",
       "      <td>Hot</td>\n",
       "      <td>High</td>\n",
       "      <td>True</td>\n",
       "      <td>No</td>\n",
       "    </tr>\n",
       "    <tr>\n",
       "      <th>2</th>\n",
       "      <td>Overcast</td>\n",
       "      <td>Hot</td>\n",
       "      <td>High</td>\n",
       "      <td>False</td>\n",
       "      <td>Yes</td>\n",
       "    </tr>\n",
       "    <tr>\n",
       "      <th>3</th>\n",
       "      <td>Sunny</td>\n",
       "      <td>Mild</td>\n",
       "      <td>High</td>\n",
       "      <td>False</td>\n",
       "      <td>Yes</td>\n",
       "    </tr>\n",
       "    <tr>\n",
       "      <th>4</th>\n",
       "      <td>Sunny</td>\n",
       "      <td>Cool</td>\n",
       "      <td>Normal</td>\n",
       "      <td>False</td>\n",
       "      <td>Yes</td>\n",
       "    </tr>\n",
       "    <tr>\n",
       "      <th>5</th>\n",
       "      <td>Sunny</td>\n",
       "      <td>Cool</td>\n",
       "      <td>Normal</td>\n",
       "      <td>True</td>\n",
       "      <td>No</td>\n",
       "    </tr>\n",
       "    <tr>\n",
       "      <th>6</th>\n",
       "      <td>Overcast</td>\n",
       "      <td>Cool</td>\n",
       "      <td>Normal</td>\n",
       "      <td>True</td>\n",
       "      <td>Yes</td>\n",
       "    </tr>\n",
       "    <tr>\n",
       "      <th>7</th>\n",
       "      <td>Rainy</td>\n",
       "      <td>Mild</td>\n",
       "      <td>High</td>\n",
       "      <td>False</td>\n",
       "      <td>No</td>\n",
       "    </tr>\n",
       "    <tr>\n",
       "      <th>8</th>\n",
       "      <td>Rainy</td>\n",
       "      <td>Cool</td>\n",
       "      <td>Normal</td>\n",
       "      <td>False</td>\n",
       "      <td>Yes</td>\n",
       "    </tr>\n",
       "    <tr>\n",
       "      <th>9</th>\n",
       "      <td>Sunny</td>\n",
       "      <td>Mild</td>\n",
       "      <td>Normal</td>\n",
       "      <td>False</td>\n",
       "      <td>Yes</td>\n",
       "    </tr>\n",
       "    <tr>\n",
       "      <th>10</th>\n",
       "      <td>Rainy</td>\n",
       "      <td>Mild</td>\n",
       "      <td>Normal</td>\n",
       "      <td>True</td>\n",
       "      <td>Yes</td>\n",
       "    </tr>\n",
       "    <tr>\n",
       "      <th>11</th>\n",
       "      <td>Overcast</td>\n",
       "      <td>Mild</td>\n",
       "      <td>High</td>\n",
       "      <td>True</td>\n",
       "      <td>Yes</td>\n",
       "    </tr>\n",
       "    <tr>\n",
       "      <th>12</th>\n",
       "      <td>Overcast</td>\n",
       "      <td>Hot</td>\n",
       "      <td>Normal</td>\n",
       "      <td>False</td>\n",
       "      <td>Yes</td>\n",
       "    </tr>\n",
       "    <tr>\n",
       "      <th>13</th>\n",
       "      <td>Sunny</td>\n",
       "      <td>Mild</td>\n",
       "      <td>High</td>\n",
       "      <td>True</td>\n",
       "      <td>No</td>\n",
       "    </tr>\n",
       "  </tbody>\n",
       "</table>\n",
       "</div>"
      ],
      "text/plain": [
       "     Outlook  Temp Humidity  Windy Play Golf\n",
       "0      Rainy   Hot     High  False        No\n",
       "1      Rainy   Hot     High   True        No\n",
       "2   Overcast   Hot     High  False       Yes\n",
       "3      Sunny  Mild     High  False       Yes\n",
       "4      Sunny  Cool   Normal  False       Yes\n",
       "5      Sunny  Cool   Normal   True        No\n",
       "6   Overcast  Cool   Normal   True       Yes\n",
       "7      Rainy  Mild     High  False        No\n",
       "8      Rainy  Cool   Normal  False       Yes\n",
       "9      Sunny  Mild   Normal  False       Yes\n",
       "10     Rainy  Mild   Normal   True       Yes\n",
       "11  Overcast  Mild     High   True       Yes\n",
       "12  Overcast   Hot   Normal  False       Yes\n",
       "13     Sunny  Mild     High   True        No"
      ]
     },
     "execution_count": 38,
     "metadata": {},
     "output_type": "execute_result"
    }
   ],
   "source": [
    "df = pd.read_csv('play_golf.csv')\n",
    "df"
   ]
  },
  {
   "cell_type": "code",
   "execution_count": 39,
   "id": "c8d4baca-a1d6-4fcc-b635-d65afde2bae7",
   "metadata": {},
   "outputs": [
    {
     "data": {
      "text/plain": [
       "(array([[0., 1., 0., 0., 1., 0., 1., 0., 1., 0.],\n",
       "        [0., 1., 0., 0., 1., 0., 1., 0., 0., 1.],\n",
       "        [1., 0., 0., 0., 1., 0., 1., 0., 1., 0.],\n",
       "        [0., 0., 1., 0., 0., 1., 1., 0., 1., 0.],\n",
       "        [0., 0., 1., 1., 0., 0., 0., 1., 1., 0.],\n",
       "        [0., 0., 1., 1., 0., 0., 0., 1., 0., 1.],\n",
       "        [1., 0., 0., 1., 0., 0., 0., 1., 0., 1.],\n",
       "        [0., 1., 0., 0., 0., 1., 1., 0., 1., 0.],\n",
       "        [0., 1., 0., 1., 0., 0., 0., 1., 1., 0.],\n",
       "        [0., 0., 1., 0., 0., 1., 0., 1., 1., 0.],\n",
       "        [0., 1., 0., 0., 0., 1., 0., 1., 0., 1.],\n",
       "        [1., 0., 0., 0., 0., 1., 1., 0., 0., 1.],\n",
       "        [1., 0., 0., 0., 1., 0., 0., 1., 1., 0.],\n",
       "        [0., 0., 1., 0., 0., 1., 1., 0., 0., 1.]]),\n",
       " (14, 10),\n",
       " (14, 4))"
      ]
     },
     "execution_count": 39,
     "metadata": {},
     "output_type": "execute_result"
    }
   ],
   "source": [
    "# Load the dataset\n",
    "df = pd.read_csv('play_golf.csv') \n",
    "\n",
    "# Create label encoder instance\n",
    "lb = LabelEncoder() \n",
    "\n",
    "# Create Numerical labels for classes\n",
    "df['Play Golf_'] = lb.fit_transform(df['Play Golf'] ) \n",
    "df['Outlook_'] = lb.fit_transform(df['Outlook']) \n",
    "df['Temp_'] = lb.fit_transform(df['Temp'] ) \n",
    "df['Humidity_'] = lb.fit_transform(df['Humidity'] ) \n",
    "df['Windy_'] = lb.fit_transform(df['Windy'] ) \n",
    "\n",
    "# Split features and target variable\n",
    "X = df[['Outlook_', 'Temp_', 'Humidity_', 'Windy_']] \n",
    "Y = df['Play Golf_']\n",
    "\n",
    "# Instantiate a one hot encoder\n",
    "enc = OneHotEncoder()\n",
    "\n",
    "# Fit the feature set X\n",
    "enc.fit(X)\n",
    "\n",
    "# Transform X to onehot array \n",
    "onehotX = enc.transform(X).toarray()\n",
    "\n",
    "onehotX, onehotX.shape, X.shape"
   ]
  },
  {
   "cell_type": "code",
   "execution_count": 40,
   "id": "38be07e8-74f4-4f49-bf82-84bd08c822ce",
   "metadata": {},
   "outputs": [],
   "source": [
    "X_train, X_test , y_train,y_test = train_test_split(onehotX, Y, test_size = 0.3, random_state = 42) "
   ]
  },
  {
   "cell_type": "code",
   "execution_count": 41,
   "id": "4594a4d8-7228-4eb7-824a-23c178b55651",
   "metadata": {},
   "outputs": [],
   "source": [
    "from sklearn.metrics import confusion_matrix,accuracy_score"
   ]
  },
  {
   "cell_type": "code",
   "execution_count": 42,
   "id": "57d677fd-a334-41d6-a11d-071669f3b35d",
   "metadata": {},
   "outputs": [
    {
     "data": {
      "text/plain": [
       "DecisionTreeClassifier(criterion='entropy')"
      ]
     },
     "execution_count": 42,
     "metadata": {},
     "output_type": "execute_result"
    }
   ],
   "source": [
    "clf= DecisionTreeClassifier(criterion='entropy')\n",
    "clf.fit(X_train,y_train) "
   ]
  },
  {
   "cell_type": "code",
   "execution_count": 43,
   "id": "994cd92d-c484-4a86-b6b5-d144557cd870",
   "metadata": {},
   "outputs": [
    {
     "data": {
      "text/plain": [
       "array([1, 0, 0, 1, 1])"
      ]
     },
     "execution_count": 43,
     "metadata": {},
     "output_type": "execute_result"
    }
   ],
   "source": [
    "y_test_pred = clf.predict(X_test)\n",
    "y_test_pred"
   ]
  },
  {
   "cell_type": "code",
   "execution_count": 44,
   "id": "d39f91e4-430d-416d-bb2d-617904508b05",
   "metadata": {},
   "outputs": [
    {
     "data": {
      "text/plain": [
       "array([1, 1, 0, 0, 1, 0, 1, 1, 1])"
      ]
     },
     "execution_count": 44,
     "metadata": {},
     "output_type": "execute_result"
    }
   ],
   "source": [
    "y_train_pred = clf.predict(X_train)\n",
    "y_train_pred"
   ]
  },
  {
   "cell_type": "code",
   "execution_count": 45,
   "id": "8424d5ea-0a2d-4e32-ad2c-9b13d0c9b6b3",
   "metadata": {},
   "outputs": [
    {
     "name": "stdout",
     "output_type": "stream",
     "text": [
      "1.0\n"
     ]
    },
    {
     "data": {
      "text/plain": [
       "array([[3, 0],\n",
       "       [0, 6]], dtype=int64)"
      ]
     },
     "execution_count": 45,
     "metadata": {},
     "output_type": "execute_result"
    }
   ],
   "source": [
    "print(accuracy_score(y_train, y_train_pred))\n",
    "confusion_matrix(y_train, y_train_pred)"
   ]
  },
  {
   "cell_type": "code",
   "execution_count": 46,
   "id": "e45de96d-bd3b-4d1d-a7bf-fdc6dd10907d",
   "metadata": {},
   "outputs": [],
   "source": [
    "from sklearn import metrics"
   ]
  },
  {
   "cell_type": "code",
   "execution_count": 47,
   "id": "dae83b79-79ec-42bf-b272-e008276aa7fa",
   "metadata": {},
   "outputs": [
    {
     "name": "stdout",
     "output_type": "stream",
     "text": [
      "[[1 1]\n",
      " [1 2]]\n",
      "Accuracy: 0.6\n"
     ]
    }
   ],
   "source": [
    "# confusion matrix\n",
    "confusion_matrix(y_test, y_test_pred)\n",
    "print(confusion_matrix(y_test, y_test_pred))\n",
    "\n",
    "# accuracy\n",
    "print(\"Accuracy:\", metrics.accuracy_score(y_test,y_test_pred))"
   ]
  },
  {
   "cell_type": "code",
   "execution_count": 48,
   "id": "61357932-b3f7-417c-8d2b-aa19658f0c13",
   "metadata": {},
   "outputs": [],
   "source": [
    "from sklearn.tree import export_graphviz\n",
    "from six import StringIO  \n",
    "from IPython.display import Image  \n",
    "import pydotplus, graphviz"
   ]
  },
  {
   "cell_type": "code",
   "execution_count": 49,
   "id": "0ffb0531-5faa-4865-9cec-f9015bcf5f51",
   "metadata": {},
   "outputs": [],
   "source": [
    "dot_data = StringIO()"
   ]
  },
  {
   "cell_type": "code",
   "execution_count": 50,
   "id": "4888765a-4274-4267-adc3-d12a77189b96",
   "metadata": {},
   "outputs": [],
   "source": [
    "export_graphviz(clf, out_file=dot_data, filled=True, rounded=True,\n",
    "                feature_names=df.columns, \n",
    "                class_names=['Yes', \"No\"])"
   ]
  }
 ],
 "metadata": {
  "kernelspec": {
   "display_name": "Python 3 (ipykernel)",
   "language": "python",
   "name": "python3"
  },
  "language_info": {
   "codemirror_mode": {
    "name": "ipython",
    "version": 3
   },
   "file_extension": ".py",
   "mimetype": "text/x-python",
   "name": "python",
   "nbconvert_exporter": "python",
   "pygments_lexer": "ipython3",
   "version": "3.9.13"
  }
 },
 "nbformat": 4,
 "nbformat_minor": 5
}
